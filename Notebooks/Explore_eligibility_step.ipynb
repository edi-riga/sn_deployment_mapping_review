{
 "cells": [
  {
   "cell_type": "code",
   "execution_count": 2,
   "metadata": {},
   "outputs": [],
   "source": [
    "# Load data files related to the eligibility testing step\n",
    "import json\n",
    "\n",
    "data_ineligible = None\n",
    "data_eligible = None\n",
    "data_mistakes = None\n",
    "\n",
    "with open('../2_Ineligible_1898.json') as json_file:\n",
    "    data_ineligible = json.load(json_file)\n",
    "\n",
    "with open('../2_Eligible_3017.json') as json_file:\n",
    "    data_eligible = json.load(json_file)\n",
    "\n",
    "with open('../2_Mistaken_as_ineligible_47.json') as json_file:\n",
    "    data_mistakes = json.load(json_file)\n"
   ]
  },
  {
   "cell_type": "code",
   "execution_count": 5,
   "metadata": {},
   "outputs": [
    {
     "name": "stdout",
     "output_type": "stream",
     "text": [
      "{'KN': {'eligible': 231, 'ineligible': 176, 'mistakes': 1}, 'VA': {'eligible': 299, 'ineligible': 248, 'mistakes': 0}, 'DL': {'eligible': 297, 'ineligible': 173, 'mistakes': 8}, 'AM': {'eligible': 708, 'ineligible': 475, 'mistakes': 0}, 'JJ': {'eligible': 171, 'ineligible': 117, 'mistakes': 16}, 'RZ': {'eligible': 1, 'ineligible': 0, 'mistakes': 0}, 'RB': {'eligible': 4, 'ineligible': 3, 'mistakes': 1}, 'AS': {'eligible': 558, 'ineligible': 265, 'mistakes': 0}, 'RR': {'eligible': 471, 'ineligible': 286, 'mistakes': 20}, 'MI': {'eligible': 239, 'ineligible': 140, 'mistakes': 1}, 'AA': {'eligible': 10, 'ineligible': 5, 'mistakes': 0}, 'SO': {'eligible': 28, 'ineligible': 10, 'mistakes': 0}}\n"
     ]
    }
   ],
   "source": [
    "# Gather statistics of people doing eligibility checks\n",
    "    \n",
    "from collections import Counter\n",
    "\n",
    "counter_ineligible = Counter(tok['excluded_by'] for tok in data_ineligible)\n",
    "counter_eligible = Counter(data_eligible[tok]['included_by'] for tok in data_eligible)\n",
    "counter_mistakes = Counter(tok['mistake_by'] for tok in data_mistakes)\n",
    "\n",
    "people_data = {}\n",
    "\n",
    "for code in counter_eligible:\n",
    "    people_data[code] = {\"eligible\":counter_eligible[code], \"ineligible\":0, \"mistakes\":0}\n",
    "    \n",
    "for code in counter_ineligible:\n",
    "    people_data[code][\"ineligible\"] = counter_ineligible[code]\n",
    "\n",
    "for code in counter_mistakes:\n",
    "    people_data[code][\"mistakes\"] = counter_mistakes[code]\n",
    "\n",
    "print(people_data)\n"
   ]
  },
  {
   "cell_type": "code",
   "execution_count": null,
   "metadata": {},
   "outputs": [],
   "source": []
  }
 ],
 "metadata": {
  "kernelspec": {
   "display_name": "Python 3",
   "language": "python",
   "name": "python3"
  },
  "language_info": {
   "codemirror_mode": {
    "name": "ipython",
    "version": 3
   },
   "file_extension": ".py",
   "mimetype": "text/x-python",
   "name": "python",
   "nbconvert_exporter": "python",
   "pygments_lexer": "ipython3",
   "version": "3.7.4"
  }
 },
 "nbformat": 4,
 "nbformat_minor": 2
}
