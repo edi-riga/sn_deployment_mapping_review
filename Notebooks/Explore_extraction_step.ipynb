{
 "cells": [
  {
   "cell_type": "code",
   "execution_count": 2,
   "metadata": {},
   "outputs": [],
   "source": [
    "# Load data files related to the eligibility testing step\n",
    "import json\n",
    "\n",
    "data_extracted = None\n",
    "\n",
    "with open('../3_Extracted_data_3059.json') as json_file:\n",
    "    data_extracted = json.load(json_file)\n"
   ]
  },
  {
   "cell_type": "code",
   "execution_count": 5,
   "metadata": {},
   "outputs": [
    {
     "name": "stdout",
     "output_type": "stream",
     "text": [
      "### has_goal_network Counter({True: 1825, False: 1234})\n",
      "### node_connection Counter({'Wireless': 2860, 'Wired': 94, 'Hybrid': 89, None: 16})\n",
      "### node_mobility Counter({'Static': 2286, 'Mobile': 580, 'Mixed': 140, None: 53})\n",
      "### rich_nodes Counter({'None': 2374, 'Base_stations': 416, 'All': 226, 'Mixed': 27, None: 16})\n",
      "### deployed_as_tool_or_subject Counter({'Tool': 1618, 'Subject': 1441})\n",
      "### testbed Counter({'No': 2516, 'Used': 478, 'Part of': 65})\n",
      "### deployment_trl Counter({'5-Test': 888, '7-Target': 826, '4-Lab': 682, '6-Demo': 479, '3-Bench': 103, '8-Final': 81})\n",
      "### field Counter({'Infrastructure': 413, 'Health & wellbeing': 349, 'Environment': 297, 'Agriculture': 229, 'Safety': 163, 'Industry': 143, 'Transport': 123, 'Communications': 51, 'Research': 20, 'Entertainment': 17, 'Multiple': 10, 'Education': 10})\n",
      "### scale Counter({'Building': 530, 'Property': 447, 'Single actor': 345, 'Region': 317, 'Room': 131, 'Country': 27, 'Global': 24, None: 4})\n",
      "### subject Counter({'Environment': 728, 'Equipment': 498, 'Friendly actor': 456, 'Opposing actor': 126, 'Mixed': 16, 'SELF': 1})\n",
      "### interactivity Counter({'Passive': 1448, 'Interactive': 375, None: 2})\n"
     ]
    }
   ],
   "source": [
    "from collections import Counter \n",
    "\n",
    "has_goal_network = Counter()\n",
    "node_connection = Counter()\n",
    "node_mobility = Counter()\n",
    "rich_nodes = Counter()\n",
    "deployed_as_tool_or_subject = Counter()\n",
    "testbed = Counter()\n",
    "deployment_trl = Counter()\n",
    "field = Counter()\n",
    "scale = Counter()\n",
    "subject = Counter()\n",
    "interactivity = Counter()\n",
    "\n",
    "\n",
    "for key in data_extracted:\n",
    "    has_goal_network[data_extracted[key][\"has_goal_network\"]] +=1\n",
    "    node_connection[data_extracted[key][\"node_connection\"]] +=1\n",
    "    node_mobility[data_extracted[key][\"node_mobility\"]] +=1\n",
    "    rich_nodes[data_extracted[key][\"rich_nodes\"]] +=1\n",
    "    deployed_as_tool_or_subject[data_extracted[key][\"deployed_as_tool_or_subject\"]] +=1\n",
    "    testbed[data_extracted[key][\"testbed\"]] +=1\n",
    "    deployment_trl[data_extracted[key][\"deployment_trl\"]] +=1\n",
    "    if data_extracted[key][\"has_goal_network\"] == True:\n",
    "        field[data_extracted[key][\"goal_network\"][\"field\"]] +=1\n",
    "        scale[data_extracted[key][\"goal_network\"][\"scale\"]] +=1\n",
    "        subject[data_extracted[key][\"goal_network\"][\"subject\"]] +=1\n",
    "        interactivity[data_extracted[key][\"goal_network\"][\"interactivity\"]] +=1\n",
    "\n",
    "    \n",
    "print(\"### has_goal_network\",has_goal_network)\n",
    "print(\"### node_connection\", node_connection)\n",
    "print(\"### node_mobility\",node_mobility)\n",
    "print(\"### rich_nodes\",rich_nodes)\n",
    "print(\"### deployed_as_tool_or_subject\", deployed_as_tool_or_subject)\n",
    "print(\"### testbed\", testbed)\n",
    "print(\"### deployment_trl\", deployment_trl)\n",
    "print(\"### field\", field)\n",
    "print(\"### scale\",scale)\n",
    "print(\"### subject\", subject)\n",
    "print(\"### interactivity\", interactivity)"
   ]
  },
  {
   "cell_type": "code",
   "execution_count": 2,
   "metadata": {},
   "outputs": [],
   "source": [
    "#todo - PLOT THE DIFFERENT VALUES PER DIFFERENT PERSON MARKING THEM TO SEE IF NOT BIASED....\n",
    "#import plotly.graph_objects as go\n",
    "\n",
    "#ids = sorted(people_data)\n",
    "\n",
    "#fig = go.Figure()\n",
    "#fig.add_trace(go.Bar(\n",
    "#    x=ids,\n",
    "#    y=[people_data[x][\"eligible\"]/(people_data[x][\"eligible\"]+people_data[x][\"ineligible\"]) for x in ids],\n",
    "#    name='Approval ratio',\n",
    "#    marker_color='lightsalmon'\n",
    "#))\n",
    "#fig.add_trace(go.Bar(\n",
    "#    x=ids,\n",
    "#    y= [people_data[x][\"mistakes\"]/(people_data[x][\"eligible\"]+people_data[x][\"ineligible\"]) for x in ids],\n",
    "#    name='Error rate',\n",
    "#    marker_color='indianred'\n",
    "#))\n",
    "\n",
    "\n",
    "# Here we modify the tickangle of the xaxis, resulting in rotated labels.\n",
    "#fig.update_layout(barmode='group', xaxis_tickangle=-45)\n",
    "#fig.update_xaxes(title_text=\"Researcher\")\n",
    "#fig.update_yaxes(title_text=\"Percentage\")\n",
    "#fig.show()\n"
   ]
  },
  {
   "cell_type": "code",
   "execution_count": 21,
   "metadata": {},
   "outputs": [],
   "source": []
  },
  {
   "cell_type": "code",
   "execution_count": null,
   "metadata": {},
   "outputs": [],
   "source": []
  },
  {
   "cell_type": "code",
   "execution_count": null,
   "metadata": {},
   "outputs": [],
   "source": []
  },
  {
   "cell_type": "code",
   "execution_count": null,
   "metadata": {},
   "outputs": [],
   "source": []
  },
  {
   "cell_type": "code",
   "execution_count": null,
   "metadata": {},
   "outputs": [],
   "source": []
  }
 ],
 "metadata": {
  "kernelspec": {
   "display_name": "Python 3",
   "language": "python",
   "name": "python3"
  },
  "language_info": {
   "codemirror_mode": {
    "name": "ipython",
    "version": 3
   },
   "file_extension": ".py",
   "mimetype": "text/x-python",
   "name": "python",
   "nbconvert_exporter": "python",
   "pygments_lexer": "ipython3",
   "version": "3.8.3"
  }
 },
 "nbformat": 4,
 "nbformat_minor": 2
}
